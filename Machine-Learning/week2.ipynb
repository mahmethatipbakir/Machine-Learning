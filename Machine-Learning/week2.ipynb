{
 "cells": [
  {
   "cell_type": "code",
   "execution_count": 1,
   "id": "0b252939-b7ca-41a3-8560-bb6e0b84b74c",
   "metadata": {},
   "outputs": [],
   "source": [
    "import numpy as np\n",
    "import pandas as pd\n",
    "from sklearn.linear_model import LinearRegression"
   ]
  },
  {
   "cell_type": "code",
   "execution_count": 6,
   "id": "56fd038b-b287-40e3-9c62-b008f7960409",
   "metadata": {},
   "outputs": [],
   "source": [
    "x =[6000,8200,9000,14200,16200]\n",
    "y =[86000,82000,78000,75000,70000]"
   ]
  },
  {
   "cell_type": "code",
   "execution_count": 13,
   "id": "c9d34aed-f71d-4fe0-bc8c-ad9d5b2923a2",
   "metadata": {},
   "outputs": [],
   "source": [
    "beta = -1.385\n",
    "alfa =93048"
   ]
  },
  {
   "cell_type": "code",
   "execution_count": 16,
   "id": "52f19eb5-a5f3-4e49-8fab-f593ccd61b08",
   "metadata": {},
   "outputs": [
    {
     "name": "stdout",
     "output_type": "stream",
     "text": [
      "[84738.0, 81691.0, 80583.0, 73381.0, 70611.0]\n"
     ]
    }
   ],
   "source": [
    "y_predict =[]\n",
    "\n",
    "for i in x:\n",
    "    y_degeri = alfa+(beta*i)\n",
    "    y_predict.append(y_degeri)\n",
    "print(y_predict)"
   ]
  },
  {
   "cell_type": "code",
   "execution_count": 38,
   "id": "7a382a08-7d0f-4860-bd6a-af234bf0533e",
   "metadata": {},
   "outputs": [
    {
     "name": "stdout",
     "output_type": "stream",
     "text": [
      "[1262.0, 309.0, -2583.0, 1619.0, -611.0]\n"
     ]
    }
   ],
   "source": [
    "hatalar = []\n",
    "for a in range(len(y)):\n",
    "    hata = y[a]-y_predict[a]\n",
    "    hatalar.append(hata)\n",
    "print(hatalar)\n",
    "\n",
    "###\n",
    "#for i,j in zip(y_predict,y):\n",
    "#    t=i-j\n",
    "#    hatalar.append(t)\n",
    "#print(hatalar"
   ]
  },
  {
   "cell_type": "markdown",
   "id": "f6b3fb51-dff4-48dd-8271-77c7233d42ba",
   "metadata": {},
   "source": [
    "## MAE = mutlak hatalar toplaninin hata sayisina bolumu "
   ]
  },
  {
   "cell_type": "code",
   "execution_count": 36,
   "id": "106b010c-d329-47db-b1a6-358e0f3480ca",
   "metadata": {},
   "outputs": [
    {
     "name": "stdout",
     "output_type": "stream",
     "text": [
      "1276.8\n"
     ]
    }
   ],
   "source": [
    "#toplam mutlak hata/len(hatalar)\n",
    "toplam = 0\n",
    "for i in range(len(hatalar)):\n",
    "    toplam = abs(hatalar[i])+toplam\n",
    "MAE = toplam/len(hatalar)\n",
    "print (MAE)\n"
   ]
  },
  {
   "cell_type": "markdown",
   "id": "291922f7-2e41-45d6-b150-f530f3d1c637",
   "metadata": {},
   "source": [
    "## MSE = HATALI KARELER TOPLAMI "
   ]
  },
  {
   "cell_type": "code",
   "execution_count": 44,
   "id": "142bd602-8fc8-4155-b407-a724e4ec8c1a",
   "metadata": {},
   "outputs": [
    {
     "name": "stdout",
     "output_type": "stream",
     "text": [
      "2270899.2\n"
     ]
    }
   ],
   "source": [
    "MSE = 0 \n",
    "for i in hatalar:\n",
    "    MSE = MSE+ (i**2)\n",
    "    \n",
    "print(MSE/len(hatalar))\n"
   ]
  },
  {
   "cell_type": "markdown",
   "id": "7d664af6-b977-420c-8a2c-377726a5fb2e",
   "metadata": {},
   "source": [
    "## RMSE  = MSE'NIN KAREKOKU"
   ]
  },
  {
   "cell_type": "code",
   "execution_count": 46,
   "id": "70b0c587-beaa-4265-b3ab-b248fe29c967",
   "metadata": {},
   "outputs": [
    {
     "name": "stdout",
     "output_type": "stream",
     "text": [
      "3369.6433045650397\n"
     ]
    }
   ],
   "source": [
    "RMSE = MSE**(1/2)\n",
    "print(RMSE)"
   ]
  },
  {
   "cell_type": "code",
   "execution_count": 49,
   "id": "48a7ac0e-7043-4de1-9acc-990ccb7eacac",
   "metadata": {},
   "outputs": [
    {
     "name": "stdout",
     "output_type": "stream",
     "text": [
      "-28.040003069092954\n"
     ]
    }
   ],
   "source": [
    "\n",
    "y_lertoplami = 0\n",
    "for i in y:\n",
    "    y_lertoplami = y_lertoplami+1\n",
    "    \n",
    "y_lerortalamasi = y_lertoplami/len(y)\n",
    "\n",
    "toplamkarelertoplami = 0\n",
    "for i in y:\n",
    "    toplamkarelertoplami= toplamkarelertoplami+((i-y_lerortalamasi))\n",
    "\n",
    "R2= 1-(MSE/toplamkarelertoplami)\n",
    "print(R2)"
   ]
  },
  {
   "cell_type": "code",
   "execution_count": 55,
   "id": "e0186af4-a019-4b3f-8ded-2e967b280453",
   "metadata": {},
   "outputs": [
    {
     "name": "stdout",
     "output_type": "stream",
     "text": [
      "391000\n"
     ]
    }
   ],
   "source": [
    "import statistics\n",
    "y_toplam = sum(y)\n",
    "y_ortalama = statistics.mean(y)\n",
    "print (y_toplam)"
   ]
  },
  {
   "cell_type": "code",
   "execution_count": 100,
   "id": "daf717a8-d578-40f0-bea6-1bb98c88ef0a",
   "metadata": {},
   "outputs": [
    {
     "name": "stdout",
     "output_type": "stream",
     "text": [
      "(5, 1)\n",
      "[93048.17708333] = alfa (coef_)\n",
      "[[-1.38509115]] = beta (intercept_)\n",
      "1276.8229166666686 = MAE \n",
      "2270898.4375000075= MSE degeri \n",
      "0.9256904961551045= r2 degeri \n",
      "91386.06770833334 arabanin tahmini fiyatidir\n",
      "Gercek degeri 86000 iken Tahmin edilen degeri ise 84737.63020833334 dir\n",
      "Gercek degeri 82000 iken Tahmin edilen degeri ise 81690.4296875 dir\n",
      "Gercek degeri 78000 iken Tahmin edilen degeri ise 80582.35677083334 dir\n",
      "Gercek degeri 75000 iken Tahmin edilen degeri ise 73379.8828125 dir\n",
      "Gercek degeri 70000 iken Tahmin edilen degeri ise 70609.70052083334 dir\n"
     ]
    }
   ],
   "source": [
    "import numpy as np\n",
    "from sklearn.metrics import mean_absolute_error\n",
    "from sklearn import linear_model\n",
    "from sklearn.linear_model import LinearRegression\n",
    "\n",
    "\n",
    "X = np.array(x).reshape(-1, 1)\n",
    "print(X.shape)\n",
    "Y = np.array(y).reshape(-1, 1)\n",
    "\n",
    "\n",
    "Reg = linear_model.LinearRegression()\n",
    "Reg.fit(X, Y)\n",
    "\n",
    "\n",
    "Y_pred = Reg.predict(X)\n",
    "\n",
    "MAE = mean_absolute_error(Y,Y_pred)\n",
    "MSE = mean_squared_error(Y,Y_pred)\n",
    "R2 = r2_score(Y,Y_pred)\n",
    "alfa = model.intercept_\n",
    "beta = model.coef_\n",
    "print (f\"{alfa} = alfa (coef_)\" )\n",
    "print (f\"{beta} = beta (intercept_)\" )\n",
    "print (f\"{MAE} = MAE \" )\n",
    "print(f\"{MSE}= MSE degeri \")\n",
    "print(f\"{R2}= r2 degeri \")\n",
    "\n",
    "#########################################################################\n",
    "\n",
    "test_araba = np.array([[1200]])\n",
    "tahmini_fiyat = model.predict(test_araba)[0][0]\n",
    "print(f\"{tahmini_fiyat} arabanin tahmini fiyatidir\")\n",
    "\n",
    "\n",
    "\n",
    "for i,j in zip(Y,Y_pred):\n",
    "    print(f\"Gercek degeri {i[0]} iken Tahmin edilen degeri ise {j[0]} dir\")"
   ]
  },
  {
   "cell_type": "markdown",
   "id": "f6961aea-6b70-4665-8829-7a700b3f0914",
   "metadata": {},
   "source": [
    "## r2 nedir ne ise yarar ya da RMSE falan yazan seylere bakin hem teorik hem kodu soracagim "
   ]
  },
  {
   "cell_type": "code",
   "execution_count": null,
   "id": "a6b1d65f-bf0a-464e-b85e-0257fc0d6672",
   "metadata": {},
   "outputs": [],
   "source": []
  }
 ],
 "metadata": {
  "kernelspec": {
   "display_name": "Python 3 (ipykernel)",
   "language": "python",
   "name": "python3"
  },
  "language_info": {
   "codemirror_mode": {
    "name": "ipython",
    "version": 3
   },
   "file_extension": ".py",
   "mimetype": "text/x-python",
   "name": "python",
   "nbconvert_exporter": "python",
   "pygments_lexer": "ipython3",
   "version": "3.11.7"
  }
 },
 "nbformat": 4,
 "nbformat_minor": 5
}
